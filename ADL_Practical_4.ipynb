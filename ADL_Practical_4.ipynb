{
  "nbformat": 4,
  "nbformat_minor": 0,
  "metadata": {
    "colab": {
      "provenance": []
    },
    "kernelspec": {
      "name": "python3",
      "display_name": "Python 3"
    },
    "language_info": {
      "name": "python"
    }
  },
  "cells": [
    {
      "cell_type": "markdown",
      "source": [
        "4. Create a feedforward neural network from scratch using NumPy to solve a binary classification problem (e.g., XOR)."
      ],
      "metadata": {
        "id": "3RWVCCcWCXB8"
      }
    },
    {
      "cell_type": "code",
      "execution_count": 1,
      "metadata": {
        "id": "UrpbWPpWCVYZ"
      },
      "outputs": [],
      "source": [
        "import numpy as np"
      ]
    },
    {
      "cell_type": "code",
      "source": [
        "X = np.array([[0,0],[0,1],[1,0],[1,1]], dtype=float)\n",
        "y = np.array([[0],[1],[1],[0]], dtype=float)\n",
        "\n",
        "rng = np.random.default_rng(42)\n",
        "W1 = rng.normal(0, 1, (2, 2)) * 0.5\n",
        "b1 = np.zeros((1, 2))\n",
        "W2 = rng.normal(0, 1, (2, 1)) * 0.5\n",
        "b2 = np.zeros((1, 1))"
      ],
      "metadata": {
        "id": "SRw7eDthCbAR"
      },
      "execution_count": 2,
      "outputs": []
    },
    {
      "cell_type": "code",
      "source": [
        "def sigmoid(z):\n",
        "    return 1/(1+np.exp(-z))"
      ],
      "metadata": {
        "id": "Ibav237RCbDT"
      },
      "execution_count": 3,
      "outputs": []
    },
    {
      "cell_type": "code",
      "source": [
        "def dsigmoid(a):\n",
        "    return a*(1-a)"
      ],
      "metadata": {
        "id": "_wYyAnATCbGc"
      },
      "execution_count": 4,
      "outputs": []
    },
    {
      "cell_type": "code",
      "source": [
        "lr = 0.5\n",
        "epochs = 10000"
      ],
      "metadata": {
        "id": "WEWKtYqPCbJw"
      },
      "execution_count": 5,
      "outputs": []
    },
    {
      "cell_type": "code",
      "source": [
        "for epoch in range(epochs):\n",
        "    # forward\n",
        "    z1 = X.dot(W1) + b1\n",
        "    a1 = sigmoid(z1)\n",
        "    z2 = a1.dot(W2) + b2\n",
        "    a2 = sigmoid(z2)\n",
        "\n",
        "    # loss (MSE)\n",
        "    loss = np.mean((a2 - y)**2)\n",
        "\n",
        "    # backward\n",
        "    dA2 = 2*(a2 - y)/y.shape[0]\n",
        "    dZ2 = dA2 * dsigmoid(a2)\n",
        "    dW2 = a1.T.dot(dZ2)\n",
        "    db2 = dZ2.sum(axis=0, keepdims=True)\n",
        "\n",
        "    dA1 = dZ2.dot(W2.T)\n",
        "    dZ1 = dA1 * dsigmoid(a1)\n",
        "    dW1 = X.T.dot(dZ1)\n",
        "    db1 = dZ1.sum(axis=0, keepdims=True)\n",
        "\n",
        "    # update\n",
        "    W2 -= lr * dW2\n",
        "    b2 -= lr * db2\n",
        "    W1 -= lr * dW1\n",
        "    b1 -= lr * db1\n",
        "\n",
        "    if (epoch+1) % 2000 == 0:\n",
        "        print(f\"Epoch {epoch+1}, Loss {loss:.6f}\")\n"
      ],
      "metadata": {
        "colab": {
          "base_uri": "https://localhost:8080/"
        },
        "id": "haXpG5ZQCbMb",
        "outputId": "daf9b109-a3a7-4fc1-b41c-1f32acc31148"
      },
      "execution_count": 6,
      "outputs": [
        {
          "output_type": "stream",
          "name": "stdout",
          "text": [
            "Epoch 2000, Loss 0.248933\n",
            "Epoch 4000, Loss 0.025692\n",
            "Epoch 6000, Loss 0.004756\n",
            "Epoch 8000, Loss 0.002473\n",
            "Epoch 10000, Loss 0.001649\n"
          ]
        }
      ]
    },
    {
      "cell_type": "code",
      "source": [
        "# final forward pass\n",
        "z1 = X.dot(W1) + b1\n",
        "a1 = sigmoid(z1)\n",
        "z2 = a1.dot(W2) + b2\n",
        "a2 = sigmoid(z2)\n",
        "\n",
        "print(\"Final outputs (probabilities):\")\n",
        "print(a2.round(4))\n",
        "print(\"Predicted classes:\", (a2 >= 0.5).astype(int).ravel())"
      ],
      "metadata": {
        "colab": {
          "base_uri": "https://localhost:8080/"
        },
        "id": "qbATOHV1CbPW",
        "outputId": "c708d444-6ec4-4a8f-c264-4ad98e1b3090"
      },
      "execution_count": 7,
      "outputs": [
        {
          "output_type": "stream",
          "name": "stdout",
          "text": [
            "Final outputs (probabilities):\n",
            "[[0.0391]\n",
            " [0.956 ]\n",
            " [0.9566]\n",
            " [0.0353]]\n",
            "Predicted classes: [0 1 1 0]\n"
          ]
        }
      ]
    }
  ]
}