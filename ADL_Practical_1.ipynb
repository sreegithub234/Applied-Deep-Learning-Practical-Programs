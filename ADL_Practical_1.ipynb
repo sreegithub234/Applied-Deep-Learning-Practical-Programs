{
  "nbformat": 4,
  "nbformat_minor": 0,
  "metadata": {
    "colab": {
      "provenance": []
    },
    "kernelspec": {
      "name": "python3",
      "display_name": "Python 3"
    },
    "language_info": {
      "name": "python"
    }
  },
  "cells": [
    {
      "cell_type": "markdown",
      "source": [
        "1. Simulate a McCulloch-Pitts neuron model in Python to implement basic logic gates (AND, OR, NOT)."
      ],
      "metadata": {
        "id": "-bW1xugaAusc"
      }
    },
    {
      "cell_type": "code",
      "execution_count": 1,
      "metadata": {
        "id": "FzVixKsSAikL"
      },
      "outputs": [],
      "source": [
        "import numpy as np"
      ]
    },
    {
      "cell_type": "code",
      "source": [
        "def step(u):\n",
        "    return (u >= 0).astype(int)"
      ],
      "metadata": {
        "id": "5Ami3p63A0HO"
      },
      "execution_count": 2,
      "outputs": []
    },
    {
      "cell_type": "code",
      "source": [
        "def mcp(inputs, weights, bias):\n",
        "    u = np.dot(inputs, weights) + bias\n",
        "    return step(u)"
      ],
      "metadata": {
        "id": "cZXNmZYsA0Ka"
      },
      "execution_count": 3,
      "outputs": []
    },
    {
      "cell_type": "code",
      "source": [
        "# Truth tables\n",
        "X2 = np.array([[0,0],[0,1],[1,0],[1,1]])\n",
        "X1 = np.array([[0],[1]])"
      ],
      "metadata": {
        "id": "ClIrNrhhA0OA"
      },
      "execution_count": 4,
      "outputs": []
    },
    {
      "cell_type": "code",
      "source": [
        "# AND gate\n",
        "w_and = np.array([1, 1])\n",
        "b_and = -1.5\n",
        "y_and = mcp(X2, w_and, b_and)\n",
        "print(\"AND Gate (x1,x2) -> y\")\n",
        "for x,y in zip(X2, y_and):\n",
        "    print(f\"{tuple(x)} -> {int(y)}\")"
      ],
      "metadata": {
        "colab": {
          "base_uri": "https://localhost:8080/"
        },
        "id": "yop66C1cA0Qe",
        "outputId": "81ff568f-2377-4b26-f9ba-b3e0e504e0d9"
      },
      "execution_count": 7,
      "outputs": [
        {
          "output_type": "stream",
          "name": "stdout",
          "text": [
            "AND Gate (x1,x2) -> y\n",
            "(np.int64(0), np.int64(0)) -> 0\n",
            "(np.int64(0), np.int64(1)) -> 0\n",
            "(np.int64(1), np.int64(0)) -> 0\n",
            "(np.int64(1), np.int64(1)) -> 1\n"
          ]
        }
      ]
    },
    {
      "cell_type": "code",
      "source": [
        "# OR gate\n",
        "w_or = np.array([1, 1])\n",
        "b_or = -0.5\n",
        "y_or = mcp(X2, w_or, b_or)\n",
        "print(\"\\nOR Gate (x1,x2) -> y\")\n",
        "for x,y in zip(X2, y_or):\n",
        "    print(f\"{tuple(x)} -> {int(y)}\")\n"
      ],
      "metadata": {
        "colab": {
          "base_uri": "https://localhost:8080/"
        },
        "id": "tkYpzfHSA0TT",
        "outputId": "37711c73-bd12-4e48-8549-8394cf881348"
      },
      "execution_count": 8,
      "outputs": [
        {
          "output_type": "stream",
          "name": "stdout",
          "text": [
            "\n",
            "OR Gate (x1,x2) -> y\n",
            "(np.int64(0), np.int64(0)) -> 0\n",
            "(np.int64(0), np.int64(1)) -> 1\n",
            "(np.int64(1), np.int64(0)) -> 1\n",
            "(np.int64(1), np.int64(1)) -> 1\n"
          ]
        }
      ]
    },
    {
      "cell_type": "code",
      "source": [
        "# NOT gate (single input)\n",
        "w_not = np.array([-1])\n",
        "b_not = 0.0\n",
        "y_not = mcp(X1, w_not, b_not)\n",
        "print(\"\\nNOT Gate (x) -> y\")\n",
        "for x,y in zip(X1, y_not):\n",
        "    print(f\"{int(x[0])} -> {int(y)}\")"
      ],
      "metadata": {
        "colab": {
          "base_uri": "https://localhost:8080/"
        },
        "id": "fT1d4dZ5A0WO",
        "outputId": "7e1e63b2-21e9-4486-f3c2-46e30c88c3a1"
      },
      "execution_count": 9,
      "outputs": [
        {
          "output_type": "stream",
          "name": "stdout",
          "text": [
            "\n",
            "NOT Gate (x) -> y\n",
            "0 -> 1\n",
            "1 -> 0\n"
          ]
        }
      ]
    }
  ]
}