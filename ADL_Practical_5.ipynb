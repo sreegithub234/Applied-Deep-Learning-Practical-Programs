{
  "nbformat": 4,
  "nbformat_minor": 0,
  "metadata": {
    "colab": {
      "provenance": []
    },
    "kernelspec": {
      "name": "python3",
      "display_name": "Python 3"
    },
    "language_info": {
      "name": "python"
    }
  },
  "cells": [
    {
      "cell_type": "markdown",
      "source": [
        "5. Develop a basic neural network using NumPy and implement the backpropagation algorithm for weight updates on a simple dataset."
      ],
      "metadata": {
        "id": "etyovXLoC-cq"
      }
    },
    {
      "cell_type": "code",
      "execution_count": 1,
      "metadata": {
        "id": "BO9iTGksC9Po"
      },
      "outputs": [],
      "source": [
        "import numpy as np\n"
      ]
    },
    {
      "cell_type": "code",
      "source": [
        "# Create a simple 2-class dataset\n",
        "rng = np.random.default_rng(0)\n",
        "N = 200\n",
        "X1 = rng.normal([-1,-1], 0.5, (N//2,2))\n",
        "X2 = rng.normal([ 1, 1], 0.5, (N//2,2))\n",
        "X = np.vstack([X1, X2])\n",
        "y = np.vstack([np.zeros((N//2,1)), np.ones((N//2,1))])"
      ],
      "metadata": {
        "id": "_dQAGl5iDAlg"
      },
      "execution_count": 2,
      "outputs": []
    },
    {
      "cell_type": "code",
      "source": [
        "def sigmoid(z):\n",
        "    return 1/(1+np.exp(-z))"
      ],
      "metadata": {
        "id": "ItPHjqAGDAop"
      },
      "execution_count": 3,
      "outputs": []
    },
    {
      "cell_type": "code",
      "source": [
        "def dsigmoid(a):\n",
        "    return a*(1-a)"
      ],
      "metadata": {
        "id": "ZyBsyk81DArl"
      },
      "execution_count": 4,
      "outputs": []
    },
    {
      "cell_type": "code",
      "source": [
        "# architecture: 2 -> 8 -> 4 -> 1\n",
        "W1 = rng.normal(0, 1, (2, 8))*0.3\n",
        "b1 = np.zeros((1, 8))\n",
        "W2 = rng.normal(0, 1, (8, 4))*0.3\n",
        "b2 = np.zeros((1, 4))\n",
        "W3 = rng.normal(0, 1, (4, 1))*0.3\n",
        "b3 = np.zeros((1, 1))"
      ],
      "metadata": {
        "id": "Up73SW7BDAug"
      },
      "execution_count": 5,
      "outputs": []
    },
    {
      "cell_type": "code",
      "source": [
        "lr = 0.1\n",
        "epochs = 2000"
      ],
      "metadata": {
        "id": "C5mgLI9FDAxb"
      },
      "execution_count": 6,
      "outputs": []
    },
    {
      "cell_type": "code",
      "source": [
        "for epoch in range(epochs):\n",
        "    # forward\n",
        "    z1 = X.dot(W1) + b1; a1 = sigmoid(z1)\n",
        "    z2 = a1.dot(W2) + b2; a2 = sigmoid(z2)\n",
        "    z3 = a2.dot(W3) + b3; a3 = sigmoid(z3)\n",
        "\n",
        "    # loss (binary cross-entropy)\n",
        "    eps = 1e-9\n",
        "    loss = -np.mean(y*np.log(a3+eps) + (1-y)*np.log(1-a3+eps))\n",
        "\n",
        "    # backward\n",
        "    dZ3 = (a3 - y)  # derivative for BCE with sigmoid output\n",
        "    dW3 = a2.T.dot(dZ3); db3 = dZ3.sum(axis=0, keepdims=True)\n",
        "    dA2 = dZ3.dot(W3.T); dZ2 = dA2 * dsigmoid(a2)\n",
        "    dW2 = a1.T.dot(dZ2); db2 = dZ2.sum(axis=0, keepdims=True)\n",
        "    dA1 = dZ2.dot(W2.T); dZ1 = dA1 * dsigmoid(a1)\n",
        "    dW1 = X.T.dot(dZ1); db1 = dZ1.sum(axis=0, keepdims=True)\n",
        "\n",
        "    # update\n",
        "    W3 -= lr*dW3; b3 -= lr*db3\n",
        "    W2 -= lr*dW2; b2 -= lr*db2\n",
        "    W1 -= lr*dW1; b1 -= lr*db1\n",
        "\n",
        "    if (epoch+1) % 400 == 0:\n",
        "        pred = (a3 >= 0.5).astype(int)\n",
        "        acc = (pred == y).mean()\n",
        "        print(f\"Epoch {epoch+1}, Loss {loss:.4f}, Acc {acc:.3f}\")\n"
      ],
      "metadata": {
        "colab": {
          "base_uri": "https://localhost:8080/"
        },
        "id": "DUJRnFarDSSo",
        "outputId": "95e6d132-070a-47ad-e667-4eeb16c669fb"
      },
      "execution_count": 7,
      "outputs": [
        {
          "output_type": "stream",
          "name": "stdout",
          "text": [
            "Epoch 400, Loss 0.0007, Acc 1.000\n",
            "Epoch 800, Loss 0.0003, Acc 1.000\n",
            "Epoch 1200, Loss 0.0002, Acc 1.000\n",
            "Epoch 1600, Loss 0.0002, Acc 1.000\n",
            "Epoch 2000, Loss 0.0001, Acc 1.000\n"
          ]
        }
      ]
    },
    {
      "cell_type": "code",
      "source": [
        "# final accuracy\n",
        "pred = (a3 >= 0.5).astype(int)\n",
        "acc = (pred == y).mean()\n",
        "print(f\"Final training accuracy: {acc:.3f}\")"
      ],
      "metadata": {
        "colab": {
          "base_uri": "https://localhost:8080/"
        },
        "id": "Fx6VTqfpDSU8",
        "outputId": "b95eb3e1-11aa-4ba6-bce8-1ecee8223942"
      },
      "execution_count": 8,
      "outputs": [
        {
          "output_type": "stream",
          "name": "stdout",
          "text": [
            "Final training accuracy: 1.000\n"
          ]
        }
      ]
    }
  ]
}